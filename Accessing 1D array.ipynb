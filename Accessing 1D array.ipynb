{
 "cells": [
  {
   "cell_type": "code",
   "execution_count": 1,
   "id": "a6cdef63",
   "metadata": {},
   "outputs": [
    {
     "name": "stdout",
     "output_type": "stream",
     "text": [
      "a[0] - 1\n",
      "after changing second value to 1000 - [   1 1000   25  872    1]\n",
      "After slicing = [   1 1000   25]\n"
     ]
    }
   ],
   "source": [
    "import numpy as np\n",
    "a= np.array([1,987,25,872,1])\n",
    "\n",
    "#accessing 1st element of array\n",
    "print(\"a[0] -\",a[0])\n",
    "\n",
    "#change the second value to 1000\n",
    "a[1] = 1000\n",
    "\n",
    "print(\"after changing second value to 1000 -\",a)\n",
    "\n",
    "#slicing 1st 3 values of numpy array\n",
    "print(\"After slicing =\",a[0:3])\n"
   ]
  },
  {
   "cell_type": "code",
   "execution_count": null,
   "id": "98eef66e",
   "metadata": {},
   "outputs": [],
   "source": [
    " #Accessing and slicing operations for 1D array is same as list. Index values starts from 0 to length of the list."
   ]
  }
 ],
 "metadata": {
  "kernelspec": {
   "display_name": "Python 3 (ipykernel)",
   "language": "python",
   "name": "python3"
  },
  "language_info": {
   "codemirror_mode": {
    "name": "ipython",
    "version": 3
   },
   "file_extension": ".py",
   "mimetype": "text/x-python",
   "name": "python",
   "nbconvert_exporter": "python",
   "pygments_lexer": "ipython3",
   "version": "3.9.12"
  }
 },
 "nbformat": 4,
 "nbformat_minor": 5
}
