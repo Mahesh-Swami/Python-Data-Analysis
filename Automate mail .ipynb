{
 "cells": [
  {
   "cell_type": "code",
   "execution_count": 1,
   "id": "78ebb409",
   "metadata": {},
   "outputs": [],
   "source": [
    "import pyodbc\n",
    "import smtplib\n",
    "from email.mime.text import MIMEText"
   ]
  },
  {
   "cell_type": "code",
   "execution_count": 2,
   "id": "74d35ccf",
   "metadata": {},
   "outputs": [
    {
     "ename": "OperationalError",
     "evalue": "('08001', '[08001] [Microsoft][ODBC SQL Server Driver][DBNETLIB]SQL Server does not exist or access denied. (17) (SQLDriverConnect); [08001] [Microsoft][ODBC SQL Server Driver][DBNETLIB]ConnectionOpen (Connect()). (53)')",
     "output_type": "error",
     "traceback": [
      "\u001b[1;31m---------------------------------------------------------------------------\u001b[0m",
      "\u001b[1;31mOperationalError\u001b[0m                          Traceback (most recent call last)",
      "Input \u001b[1;32mIn [2]\u001b[0m, in \u001b[0;36m<cell line: 2>\u001b[1;34m()\u001b[0m\n\u001b[0;32m      1\u001b[0m \u001b[38;5;66;03m# Connect to the SQL Server database\u001b[39;00m\n\u001b[1;32m----> 2\u001b[0m conn \u001b[38;5;241m=\u001b[39m \u001b[43mpyodbc\u001b[49m\u001b[38;5;241;43m.\u001b[39;49m\u001b[43mconnect\u001b[49m\u001b[43m(\u001b[49m\u001b[38;5;124;43m'\u001b[39;49m\u001b[38;5;124;43mDriver=\u001b[39;49m\u001b[38;5;124;43m{\u001b[39;49m\u001b[38;5;124;43mSQL Server};\u001b[39;49m\u001b[38;5;124;43m'\u001b[39;49m\n\u001b[0;32m      3\u001b[0m \u001b[43m                      \u001b[49m\u001b[38;5;124;43m'\u001b[39;49m\u001b[38;5;124;43mServer=your_server_name;\u001b[39;49m\u001b[38;5;124;43m'\u001b[39;49m\n\u001b[0;32m      4\u001b[0m \u001b[43m                      \u001b[49m\u001b[38;5;124;43m'\u001b[39;49m\u001b[38;5;124;43mDatabase=your_database_name;\u001b[39;49m\u001b[38;5;124;43m'\u001b[39;49m\n\u001b[0;32m      5\u001b[0m \u001b[43m                      \u001b[49m\u001b[38;5;124;43m'\u001b[39;49m\u001b[38;5;124;43mTrusted_Connection=yes;\u001b[39;49m\u001b[38;5;124;43m'\u001b[39;49m\u001b[43m)\u001b[49m\n\u001b[0;32m      6\u001b[0m \u001b[38;5;66;03m# Fetch data from the database\u001b[39;00m\n\u001b[0;32m      7\u001b[0m cursor \u001b[38;5;241m=\u001b[39m conn\u001b[38;5;241m.\u001b[39mcursor()\n",
      "\u001b[1;31mOperationalError\u001b[0m: ('08001', '[08001] [Microsoft][ODBC SQL Server Driver][DBNETLIB]SQL Server does not exist or access denied. (17) (SQLDriverConnect); [08001] [Microsoft][ODBC SQL Server Driver][DBNETLIB]ConnectionOpen (Connect()). (53)')"
     ]
    }
   ],
   "source": [
    "# Connect to the SQL Server database\n",
    "conn = pyodbc.connect('Driver={SQL Server};'\n",
    "                      'Server=your_server_name;'\n",
    "                      'Database=your_database_name;'\n",
    "                      'Trusted_Connection=yes;')\n",
    "# Fetch data from the database\n",
    "cursor = conn.cursor()\n",
    "cursor.execute('SELECT * FROM your_table_name')\n",
    "rows = cursor.fetchall()\n",
    "\n",
    "# Create the message body\n",
    "message_body = 'Here is the information from the SQL Server database:\\n\\n'\n",
    "for row in rows:\n",
    "    message_body += str(row) + '\\n'\n",
    "\n",
    "# Set up the email message\n",
    "msg = MIMEText(message_body)\n",
    "msg['Subject'] = 'SQL Server data'\n",
    "msg['From'] = 'your_email_address'\n",
    "msg['To'] = 'your_manager_email_address'\n",
    "# Send the email\n",
    "s = smtplib.SMTP('smtp.gmail.com', 587)\n",
    "s.starttls()\n",
    "s.login('your_email_address', 'your_email_password')\n",
    "s.sendmail('your_email_address', 'your_manager_email_address', msg.as_string())\n",
    "s.quit()"
   ]
  },
  {
   "cell_type": "code",
   "execution_count": 3,
   "id": "8e31e973",
   "metadata": {},
   "outputs": [
    {
     "ename": "NameError",
     "evalue": "name 'your_company_smtp_server_port_number' is not defined",
     "output_type": "error",
     "traceback": [
      "\u001b[1;31m---------------------------------------------------------------------------\u001b[0m",
      "\u001b[1;31mNameError\u001b[0m                                 Traceback (most recent call last)",
      "Input \u001b[1;32mIn [3]\u001b[0m, in \u001b[0;36m<cell line: 2>\u001b[1;34m()\u001b[0m\n\u001b[0;32m      1\u001b[0m \u001b[38;5;66;03m# Send the email for your company domain\u001b[39;00m\n\u001b[1;32m----> 2\u001b[0m s \u001b[38;5;241m=\u001b[39m smtplib\u001b[38;5;241m.\u001b[39mSMTP(\u001b[38;5;124m'\u001b[39m\u001b[38;5;124myour_company_smtp_server_address\u001b[39m\u001b[38;5;124m'\u001b[39m, \u001b[43myour_company_smtp_server_port_number\u001b[49m)\n\u001b[0;32m      3\u001b[0m s\u001b[38;5;241m.\u001b[39mehlo()\n\u001b[0;32m      4\u001b[0m s\u001b[38;5;241m.\u001b[39mstarttls()\n",
      "\u001b[1;31mNameError\u001b[0m: name 'your_company_smtp_server_port_number' is not defined"
     ]
    }
   ],
   "source": [
    "# Send the email for your company domain\n",
    "s = smtplib.SMTP('your_company_smtp_server_address', your_company_smtp_server_port_number)\n",
    "s.ehlo()\n",
    "s.starttls()\n",
    "s.login('your_email_address', 'your_email_password')\n",
    "s.sendmail('your_email_address', 'your_manager_email_address', msg.as_string())\n",
    "s.quit()"
   ]
  },
  {
   "cell_type": "code",
   "execution_count": null,
   "id": "6abe9f13",
   "metadata": {},
   "outputs": [],
   "source": []
  }
 ],
 "metadata": {
  "kernelspec": {
   "display_name": "Python 3 (ipykernel)",
   "language": "python",
   "name": "python3"
  },
  "language_info": {
   "codemirror_mode": {
    "name": "ipython",
    "version": 3
   },
   "file_extension": ".py",
   "mimetype": "text/x-python",
   "name": "python",
   "nbconvert_exporter": "python",
   "pygments_lexer": "ipython3",
   "version": "3.9.12"
  }
 },
 "nbformat": 4,
 "nbformat_minor": 5
}
