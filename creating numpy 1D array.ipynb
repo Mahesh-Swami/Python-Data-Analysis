{
 "cells": [
  {
   "cell_type": "code",
   "execution_count": 1,
   "id": "3054182a",
   "metadata": {},
   "outputs": [],
   "source": [
    "#A \"numpy\" array or \"ndarray\" is similar to a list.\n",
    "#usually fixed in size \n",
    "#each element is of the same type, \n",
    "#we can cast the list to numpy array by first importing the numpy.\n",
    "#Or We can also quickly create the numpy array with arange function which creates an array within the range specified."
   ]
  },
  {
   "cell_type": "code",
   "execution_count": 4,
   "id": "93034a61",
   "metadata": {},
   "outputs": [],
   "source": [
    "import numpy as np"
   ]
  },
  {
   "cell_type": "code",
   "execution_count": 5,
   "id": "62b1a35b",
   "metadata": {},
   "outputs": [],
   "source": [
    "# Casting list to numpy\n",
    "a= np.array([1,987,25,872,1])"
   ]
  },
  {
   "cell_type": "code",
   "execution_count": 6,
   "id": "2123dff2",
   "metadata": {},
   "outputs": [],
   "source": [
    "#since there is no value after comma(,)...its 1 Dimensional array\n"
   ]
  },
  {
   "cell_type": "code",
   "execution_count": 7,
   "id": "5e11c7d2",
   "metadata": {},
   "outputs": [
    {
     "name": "stdout",
     "output_type": "stream",
     "text": [
      "Numpy Array a= [  1 987  25 872   1]\n"
     ]
    }
   ],
   "source": [
    "print(\"Numpy Array a=\",a)"
   ]
  },
  {
   "cell_type": "code",
   "execution_count": null,
   "id": "105f9051",
   "metadata": {},
   "outputs": [],
   "source": []
  },
  {
   "cell_type": "code",
   "execution_count": null,
   "id": "3d4789d6",
   "metadata": {},
   "outputs": [],
   "source": []
  },
  {
   "cell_type": "code",
   "execution_count": 8,
   "id": "dc2a4b7f",
   "metadata": {},
   "outputs": [],
   "source": [
    "import numpy as np"
   ]
  },
  {
   "cell_type": "code",
   "execution_count": 9,
   "id": "9df7bf7b",
   "metadata": {},
   "outputs": [
    {
     "name": "stdout",
     "output_type": "stream",
     "text": [
      "Numpy array a= [ 0  1  2  3  4  5  6  7  8  9 10 11 12 13 14 15 16 17 18 19]\n"
     ]
    }
   ],
   "source": [
    "a= np.arange(20)\n",
    "print(\"Numpy array a=\",a)"
   ]
  },
  {
   "cell_type": "code",
   "execution_count": 10,
   "id": "a6443b2c",
   "metadata": {},
   "outputs": [
    {
     "name": "stdout",
     "output_type": "stream",
     "text": [
      "(20,)\n"
     ]
    }
   ],
   "source": [
    "# to check dimensionality of array use shape property\n",
    "print(a.shape)\n"
   ]
  },
  {
   "cell_type": "code",
   "execution_count": null,
   "id": "015853ac",
   "metadata": {},
   "outputs": [],
   "source": []
  }
 ],
 "metadata": {
  "kernelspec": {
   "display_name": "Python 3 (ipykernel)",
   "language": "python",
   "name": "python3"
  },
  "language_info": {
   "codemirror_mode": {
    "name": "ipython",
    "version": 3
   },
   "file_extension": ".py",
   "mimetype": "text/x-python",
   "name": "python",
   "nbconvert_exporter": "python",
   "pygments_lexer": "ipython3",
   "version": "3.9.12"
  }
 },
 "nbformat": 4,
 "nbformat_minor": 5
}
