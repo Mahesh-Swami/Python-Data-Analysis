{
 "cells": [
  {
   "cell_type": "code",
   "execution_count": 1,
   "id": "c1be9378",
   "metadata": {},
   "outputs": [],
   "source": [
    "#If you only use the arrange function, it will output a one-dimensional array.\n",
    "#To make it a two-dimensional array, chain its output with the reshape function.\n",
    "#here we  will create the 15 integers and then it will convert to two dimensional array with 3 rows and 5 columns."
   ]
  },
  {
   "cell_type": "code",
   "execution_count": 4,
   "id": "ca7e4cef",
   "metadata": {},
   "outputs": [
    {
     "name": "stdout",
     "output_type": "stream",
     "text": [
      "[[ 0  1  2  3  4]\n",
      " [ 5  6  7  8  9]\n",
      " [10 11 12 13 14]]\n",
      "Shape of the numpy array is = (3, 5)\n"
     ]
    }
   ],
   "source": [
    "import numpy as np\n",
    "a = np.arange(15).reshape(3,5)\n",
    "print(a)\n",
    "print(\"Shape of the numpy array is =\", a.shape)"
   ]
  },
  {
   "cell_type": "code",
   "execution_count": null,
   "id": "fccc6ba2",
   "metadata": {},
   "outputs": [],
   "source": [
    "#Accessing numpy 2D array"
   ]
  },
  {
   "cell_type": "code",
   "execution_count": 5,
   "id": "b580d5bb",
   "metadata": {},
   "outputs": [
    {
     "name": "stdout",
     "output_type": "stream",
     "text": [
      "[[ 0  1  2  3  4]\n",
      " [ 5  6  7  8  9]\n",
      " [10 11 12 13 14]]\n",
      "Element in 1st row and 1st column = 0\n",
      "Element in 2nd row and 5th column = 9\n",
      "Element in 3rd row and 4th column = 13\n"
     ]
    }
   ],
   "source": [
    "a = np.arange(15).reshape(3,5)\n",
    "print(a)\n",
    "\n",
    "print(\"Element in 1st row and 1st column =\",a[0,0])\n",
    "print(\"Element in 2nd row and 5th column =\",a[1,4])\n",
    "print(\"Element in 3rd row and 4th column =\",a[2,3])"
   ]
  },
  {
   "cell_type": "code",
   "execution_count": null,
   "id": "57a254f2",
   "metadata": {},
   "outputs": [],
   "source": []
  }
 ],
 "metadata": {
  "kernelspec": {
   "display_name": "Python 3 (ipykernel)",
   "language": "python",
   "name": "python3"
  },
  "language_info": {
   "codemirror_mode": {
    "name": "ipython",
    "version": 3
   },
   "file_extension": ".py",
   "mimetype": "text/x-python",
   "name": "python",
   "nbconvert_exporter": "python",
   "pygments_lexer": "ipython3",
   "version": "3.9.12"
  }
 },
 "nbformat": 4,
 "nbformat_minor": 5
}
